{
  "nbformat": 4,
  "nbformat_minor": 0,
  "metadata": {
    "colab": {
      "provenance": [],
      "gpuType": "T4",
      "authorship_tag": "ABX9TyPQvM7SwUq0jWvPyl8QYY0N",
      "include_colab_link": true
    },
    "kernelspec": {
      "name": "python3",
      "display_name": "Python 3"
    },
    "language_info": {
      "name": "python"
    }
  },
  "cells": [
    {
      "cell_type": "markdown",
      "metadata": {
        "id": "view-in-github",
        "colab_type": "text"
      },
      "source": [
        "<a href=\"https://colab.research.google.com/github/koroltony/pyrtltest/blob/main/PyRTLAdder.ipynb\" target=\"_parent\"><img src=\"https://colab.research.google.com/assets/colab-badge.svg\" alt=\"Open In Colab\"/></a>"
      ]
    },
    {
      "cell_type": "markdown",
      "source": [
        "## Install Pyrtl in Colab"
      ],
      "metadata": {
        "id": "BDNr8rW7Hd_b"
      }
    },
    {
      "cell_type": "code",
      "execution_count": 1,
      "metadata": {
        "id": "SKit4NSAG8LW",
        "colab": {
          "base_uri": "https://localhost:8080/"
        },
        "outputId": "1f2c4ed6-f009-4f30-aed5-ad467ca10cda"
      },
      "outputs": [
        {
          "output_type": "stream",
          "name": "stdout",
          "text": [
            "Requirement already satisfied: pyrtl in /usr/local/lib/python3.10/dist-packages (0.10.2)\n",
            "Requirement already satisfied: six in /usr/local/lib/python3.10/dist-packages (from pyrtl) (1.16.0)\n"
          ]
        }
      ],
      "source": [
        "!pip install pyrtl\n"
      ]
    },
    {
      "cell_type": "markdown",
      "source": [
        "## Build Circuit in Pyrtl"
      ],
      "metadata": {
        "id": "2yLmDPSAHt2L"
      }
    },
    {
      "cell_type": "code",
      "source": [
        "import pyrtl\n",
        "\n",
        "# Define your PyRTL circuit\n",
        "def one_bit_add(a, b, carry_in):\n",
        "    assert len(a) == len(b) == 1\n",
        "    sum_ = a ^ b ^ carry_in\n",
        "    carry_out = a & b | a & carry_in | b & carry_in\n",
        "    return sum_, carry_out\n",
        "\n",
        "def ripple_add(a, b, carry_in=0):\n",
        "    a, b = pyrtl.match_bitwidth(a, b)\n",
        "    if len(a) == 1:\n",
        "        sumbits, carry_out = one_bit_add(a, b, carry_in)\n",
        "    else:\n",
        "        lsbit, ripplecarry = one_bit_add(a[0], b[0], carry_in)\n",
        "        msbits, carry_out = ripple_add(a[1:], b[1:], ripplecarry)\n",
        "        sumbits = pyrtl.concat(msbits, lsbit)\n",
        "    return sumbits, carry_out\n",
        "\n",
        "# Instantiate an adder into a 3-bit counter\n",
        "counter = pyrtl.Register(bitwidth=3, name='counter')\n",
        "sum_, carry_out = ripple_add(counter, pyrtl.Const(\"1'b1\"))\n",
        "counter.next <<= sum_\n",
        "\n",
        "# Simulate the instantiated design for 15 cycles\n",
        "sim_trace = pyrtl.SimulationTrace()\n",
        "sim = pyrtl.Simulation(tracer=sim_trace)\n",
        "for cycle in range(15):\n",
        "    sim.step({})\n",
        "sim_trace.render_trace()\n",
        "print(\"not the cleanest output, so we need to run the waveform simulation in the next cell\")\n",
        "\n",
        "#create verilog file\n",
        "with open('hardware.v', 'w') as file:\n",
        "    pyrtl.output_to_verilog(file, add_reset=True, block=None)"
      ],
      "metadata": {
        "colab": {
          "base_uri": "https://localhost:8080/"
        },
        "id": "DBsi__irqoRK",
        "outputId": "a391ad29-8354-40c5-d5de-a6bb9f02c06d"
      },
      "execution_count": 2,
      "outputs": [
        {
          "output_type": "stream",
          "name": "stdout",
          "text": [
            "        ▏0                   ▏5                   ▏10                 \n",
            "\n",
            "counter \u001b[7m0x0 \u001b[0m\u001b[7m╳0x1\u001b[0m\u001b[7m╳0x2\u001b[0m\u001b[7m╳0x3\u001b[0m\u001b[7m╳0x4\u001b[0m \u001b[7m╳0x5\u001b[0m\u001b[7m╳0x6\u001b[0m\u001b[7m╳0x7\u001b[0m\u001b[7m╳0x0\u001b[0m\u001b[7m╳0x1\u001b[0m \u001b[7m╳0x2\u001b[0m\u001b[7m╳0x3\u001b[0m\u001b[7m╳0x4\u001b[0m\u001b[7m╳0x5\u001b[0m\u001b[7m╳0x6\u001b[0m\n",
            "\n",
            "not the cleanest output, so we need to run the waveform simulation in the next cell\n"
          ]
        }
      ]
    },
    {
      "cell_type": "markdown",
      "source": [
        "## Waveform simulation"
      ],
      "metadata": {
        "id": "dWkP00vooU2c"
      }
    },
    {
      "cell_type": "code",
      "source": [
        "#@title Waveform Viewer\n",
        "import json\n",
        "from IPython.display import IFrame\n",
        "\n",
        "def generate_waveform_data(sim_trace, hex_output=False):\n",
        "    waveform_signals = []\n",
        "\n",
        "    for signal_name, signal_values in sim_trace.trace.items():\n",
        "        waveform_signal = {\n",
        "            \"name\": signal_name,\n",
        "            \"wave\": \"2\" * len(signal_values),\n",
        "            \"data\": [hex(value) if hex_output else str(value) for value in signal_values]\n",
        "        }\n",
        "        waveform_signals.append(waveform_signal)\n",
        "    #visual clock signal on WaveDrom\n",
        "    waveform_clock = {\n",
        "      'name': 'clock',\n",
        "      'wave': 'p' * len(signal_values)\n",
        "    }\n",
        "    waveform_signals.append(waveform_clock)\n",
        "\n",
        "    waveform_data = {\n",
        "        \"signal\": waveform_signals,\n",
        "        \"foot\": {\n",
        "            \"tick\": 0\n",
        "        }\n",
        "    }\n",
        "    return waveform_data\n",
        "\n",
        "# Generate waveform data (Choose hex true or false)\n",
        "waveform_data_hex = generate_waveform_data(sim.tracer, hex_output=True)\n",
        "waveform_data_decimal = generate_waveform_data(sim.tracer, hex_output=False)\n",
        "\n",
        "# Save the waveform data to a JSON file (to open in WaveDrom website)\n",
        "with open('waveform_hex.json', 'w') as file:\n",
        "    json.dump(waveform_data_hex, file, indent=2)\n",
        "\n",
        "with open('waveform_dec.json', 'w') as file:\n",
        "    json.dump(waveform_data_decimal, file, indent=2)\n",
        "\n",
        "print(\"Waveforms saved to 'waveform_---.json'\")\n",
        "print(\"-> Copy paste the contents from either of the JSON files into the text-box below\")\n",
        "print(\"   (click on the folder icon on the left of the screen to see the files)\")\n",
        "print(\"-> Make sure to clear the original text in the text-box below, as it may be from previous circuits\")\n",
        "print(\"-> Note: the waveform is offset due to real-life delay in hardware\")\n",
        "\n",
        "# Display the WaveDrom website in Colab\n",
        "IFrame(src='https://wavedrom.com/editor.html', width='100%', height='500px')\n"
      ],
      "metadata": {
        "colab": {
          "base_uri": "https://localhost:8080/",
          "height": 608
        },
        "id": "HHqG3hD-oRkB",
        "outputId": "fbf8de9d-4531-4f77-b427-784ccda80e28",
        "cellView": "form"
      },
      "execution_count": 3,
      "outputs": [
        {
          "output_type": "stream",
          "name": "stdout",
          "text": [
            "Waveforms saved to 'waveform_---.json'\n",
            "-> Copy paste the contents from either of the JSON files into the text-box below\n",
            "   (click on the folder icon on the left of the screen to see the files)\n",
            "-> Make sure to clear the original text in the text-box below, as it may be from previous circuits\n",
            "-> Note: the waveform is offset due to real-life delay in hardware\n"
          ]
        },
        {
          "output_type": "execute_result",
          "data": {
            "text/plain": [
              "<IPython.lib.display.IFrame at 0x7ff9c091ee30>"
            ],
            "text/html": [
              "\n",
              "        <iframe\n",
              "            width=\"100%\"\n",
              "            height=\"500px\"\n",
              "            src=\"https://wavedrom.com/editor.html\"\n",
              "            frameborder=\"0\"\n",
              "            allowfullscreen\n",
              "            \n",
              "        ></iframe>\n",
              "        "
            ]
          },
          "metadata": {},
          "execution_count": 3
        }
      ]
    }
  ]
}