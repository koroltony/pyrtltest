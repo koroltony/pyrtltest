{
  "nbformat": 4,
  "nbformat_minor": 0,
  "metadata": {
    "colab": {
      "provenance": [],
      "gpuType": "T4",
      "collapsed_sections": [
        "BDNr8rW7Hd_b"
      ],
      "authorship_tag": "ABX9TyNReP+U8Rqo3nRrYzIpygsX",
      "include_colab_link": true
    },
    "kernelspec": {
      "name": "python3",
      "display_name": "Python 3"
    },
    "language_info": {
      "name": "python"
    }
  },
  "cells": [
    {
      "cell_type": "markdown",
      "metadata": {
        "id": "view-in-github",
        "colab_type": "text"
      },
      "source": [
        "<a href=\"https://colab.research.google.com/github/koroltony/pyrtltest/blob/main/PyRTLFIR.ipynb\" target=\"_parent\"><img src=\"https://colab.research.google.com/assets/colab-badge.svg\" alt=\"Open In Colab\"/></a>"
      ]
    },
    {
      "cell_type": "markdown",
      "source": [
        "## Install Pyrtl in Colab"
      ],
      "metadata": {
        "id": "BDNr8rW7Hd_b"
      }
    },
    {
      "cell_type": "code",
      "execution_count": 1,
      "metadata": {
        "id": "SKit4NSAG8LW",
        "colab": {
          "base_uri": "https://localhost:8080/"
        },
        "outputId": "170f665a-32d6-4e91-c8b3-7792a3916e29"
      },
      "outputs": [
        {
          "output_type": "stream",
          "name": "stdout",
          "text": [
            "Requirement already satisfied: pyrtl in /usr/local/lib/python3.10/dist-packages (0.10.2)\n",
            "Requirement already satisfied: six in /usr/local/lib/python3.10/dist-packages (from pyrtl) (1.16.0)\n"
          ]
        }
      ],
      "source": [
        "!pip install pyrtl\n"
      ]
    },
    {
      "cell_type": "markdown",
      "source": [
        "## Build Circuit in Pyrtl"
      ],
      "metadata": {
        "id": "2yLmDPSAHt2L"
      }
    },
    {
      "cell_type": "code",
      "source": [
        "import pyrtl\n",
        "\n",
        "def fir(x, bs):\n",
        "    rwidth = len(x)  # bitwidth of the registers\n",
        "    ntaps = len(bs) # number of coefficients\n",
        "\n",
        "    zs = [x] + [pyrtl.Register(rwidth) for _ in range(ntaps-1)]\n",
        "    for i in range(1,ntaps):\n",
        "        zs[i].next <<= zs[i-1]\n",
        "\n",
        "    # produce the final sum of products\n",
        "    return sum(z*b for z,b in zip(zs, bs))\n",
        "\n",
        "x = pyrtl.Input(8, 'x')\n",
        "y = pyrtl.Output(8, 'y')\n",
        "y <<= fir(x, [0, 1])\n",
        "\n",
        "sim = pyrtl.Simulation()\n",
        "sim.step_multiple({'x':[0, 9, 18, 8, 17, 7, 16, 6, 15, 5]})\n",
        "sim.tracer.render_trace()\n",
        "\n",
        "#create verilog file\n",
        "with open('hardware.v', 'w') as file:\n",
        "    pyrtl.output_to_verilog(file, add_reset=True, block=None)"
      ],
      "metadata": {
        "colab": {
          "base_uri": "https://localhost:8080/"
        },
        "id": "DBsi__irqoRK",
        "outputId": "3f746858-7628-4b73-bff5-e7619beccc66"
      },
      "execution_count": 2,
      "outputs": [
        {
          "output_type": "stream",
          "name": "stdout",
          "text": [
            "  ▏0                        ▏5                       \n",
            "\n",
            "x \u001b[7m0x0  \u001b[0m\u001b[7m╳0x9 \u001b[0m\u001b[7m╳0x12\u001b[0m\u001b[7m╳0x8 \u001b[0m\u001b[7m╳0x11\u001b[0m \u001b[7m╳0x7 \u001b[0m\u001b[7m╳0x10\u001b[0m\u001b[7m╳0x6 \u001b[0m\u001b[7m╳0xf \u001b[0m\u001b[7m╳0x5 \u001b[0m\n",
            "\n",
            "y \u001b[7m0x0  \u001b[0m\u001b[7m     \u001b[0m\u001b[7m╳0x9 \u001b[0m\u001b[7m╳0x12\u001b[0m\u001b[7m╳0x8 \u001b[0m \u001b[7m╳0x11\u001b[0m\u001b[7m╳0x7 \u001b[0m\u001b[7m╳0x10\u001b[0m\u001b[7m╳0x6 \u001b[0m\u001b[7m╳0xf \u001b[0m\n",
            "\n"
          ]
        }
      ]
    },
    {
      "cell_type": "markdown",
      "source": [
        "## Waveform simulation"
      ],
      "metadata": {
        "id": "dWkP00vooU2c"
      }
    },
    {
      "cell_type": "code",
      "source": [
        "#@title Waveform Viewer\n",
        "import json\n",
        "from IPython.display import IFrame\n",
        "\n",
        "def generate_waveform_data(sim_trace, hex_output=False):\n",
        "    waveform_signals = []\n",
        "\n",
        "    for signal_name, signal_values in sim_trace.trace.items():\n",
        "        waveform_signal = {\n",
        "            \"name\": signal_name,\n",
        "            \"wave\": \"2\" * len(signal_values),\n",
        "            \"data\": [hex(value) if hex_output else str(value) for value in signal_values]\n",
        "        }\n",
        "        waveform_signals.append(waveform_signal)\n",
        "    #visual clock signal on WaveDrom\n",
        "    waveform_clock = {\n",
        "      'name': 'clock',\n",
        "      'wave': 'p' * len(signal_values)\n",
        "    }\n",
        "    waveform_signals.append(waveform_clock)\n",
        "\n",
        "    waveform_data = {\n",
        "        \"signal\": waveform_signals,\n",
        "        \"foot\": {\n",
        "            \"tick\": 0\n",
        "        }\n",
        "    }\n",
        "    return waveform_data\n",
        "\n",
        "# Generate waveform data (Choose hex true or false)\n",
        "waveform_data_hex = generate_waveform_data(sim.tracer, hex_output=True)\n",
        "waveform_data_decimal = generate_waveform_data(sim.tracer, hex_output=False)\n",
        "\n",
        "# Save the waveform data to a JSON file (to open in WaveDrom website)\n",
        "with open('waveform_hex.json', 'w') as file:\n",
        "    json.dump(waveform_data_hex, file, indent=2)\n",
        "\n",
        "with open('waveform_dec.json', 'w') as file:\n",
        "    json.dump(waveform_data_decimal, file, indent=2)\n",
        "\n",
        "print(\"Waveforms saved to 'waveform_---.json'\")\n",
        "print(\"-> Copy paste the contents of either of the JSON files into the text box below\")\n",
        "print(\"   (click on the folder icon on the left of the screen to see the files)\")\n",
        "print(\"-> Make sure to clear the original output as it may be from previous circuits\")\n",
        "print(\"-> Note, the waveform is offset due to real-life delay in hardware\")\n",
        "\n",
        "# Display the WaveDrom website in Colab\n",
        "IFrame(src='https://wavedrom.com/editor.html', width='100%', height='500px')\n"
      ],
      "metadata": {
        "colab": {
          "base_uri": "https://localhost:8080/",
          "height": 608
        },
        "id": "HHqG3hD-oRkB",
        "outputId": "af250a07-e4e5-4b02-8461-e066aab7ee39"
      },
      "execution_count": 4,
      "outputs": [
        {
          "output_type": "stream",
          "name": "stdout",
          "text": [
            "Waveforms saved to 'waveform_---.json'\n",
            "-> Copy paste the contents of either of the JSON files into the text box below\n",
            "   (click on the folder icon on the left of the screen to see the files)\n",
            "-> Make sure to clear the original output as it may be from previous circuits\n",
            "-> Note, the waveform is offset due to real-life delay in hardware\n"
          ]
        },
        {
          "output_type": "execute_result",
          "data": {
            "text/plain": [
              "<IPython.lib.display.IFrame at 0x7f3a14777520>"
            ],
            "text/html": [
              "\n",
              "        <iframe\n",
              "            width=\"100%\"\n",
              "            height=\"500px\"\n",
              "            src=\"https://wavedrom.com/editor.html\"\n",
              "            frameborder=\"0\"\n",
              "            allowfullscreen\n",
              "            \n",
              "        ></iframe>\n",
              "        "
            ]
          },
          "metadata": {},
          "execution_count": 4
        }
      ]
    }
  ]
}